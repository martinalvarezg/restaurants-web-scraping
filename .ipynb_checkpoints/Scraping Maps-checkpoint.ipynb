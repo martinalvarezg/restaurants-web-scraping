{
 "cells": [
  {
   "cell_type": "code",
   "execution_count": 2,
   "id": "d01812a5",
   "metadata": {},
   "outputs": [],
   "source": [
    "from selenium import webdriver\n",
    "from selenium.webdriver import Keys, ActionChains\n",
    "from selenium.webdriver.common.actions.wheel_input import ScrollOrigin\n",
    "from selenium.webdriver.common.by import By\n",
    "from selenium.common.exceptions import NoSuchElementException\n",
    "import pandas as pd\n",
    "import hashlib"
   ]
  },
  {
   "cell_type": "code",
   "execution_count": 28,
   "id": "bbbb6865",
   "metadata": {},
   "outputs": [],
   "source": [
    "options = webdriver.ChromeOptions()\n",
    "options.add_argument(\"--start-maximized\")\n",
    "driver = webdriver.Chrome(options=options)"
   ]
  },
  {
   "cell_type": "code",
   "execution_count": 4,
   "id": "556c061c",
   "metadata": {},
   "outputs": [],
   "source": [
    "driver.get('https://www.google.com/maps/search/restaurantes/@4.761191,-74.0557006,19z/data=!4m2!2m1!6e5?hl=es&entry=ttu')"
   ]
  },
  {
   "cell_type": "code",
   "execution_count": 39,
   "id": "3b6380f3",
   "metadata": {},
   "outputs": [],
   "source": [
    "def get_loc_google_url(url):\n",
    "    url=url[url.find('!8m2!3d')+7:]\n",
    "    return url[:url.find('!16s')].split('!4d')"
   ]
  },
  {
   "cell_type": "code",
   "execution_count": 58,
   "id": "b58b9923",
   "metadata": {},
   "outputs": [],
   "source": [
    "def extract_data_restaurants(restaurants):\n",
    "    \n",
    "    scroll=driver.find_element(By.CLASS_NAME,'Nv2PK')\n",
    "    iframe=driver.find_element(By.CLASS_NAME,'Nv2PK')\n",
    "\n",
    "    scroll_origin = ScrollOrigin.from_element(iframe)\n",
    "\n",
    "    for i in range(0,5):\n",
    "        ActionChains(driver)\\\n",
    "            .move_to_element(scroll)\\\n",
    "            .scroll_from_origin(scroll_origin,0, 50000)\\\n",
    "            .perform()\n",
    "    \n",
    "    maps_results = driver.find_elements(By.CLASS_NAME,'Nv2PK')\n",
    "    print(len(maps_results))\n",
    "    for result in maps_results:\n",
    "        restaurant = {}\n",
    "        try:\n",
    "            name = result.find_element(By.CLASS_NAME, 'qBF1Pd') \n",
    "            restaurant['name'] = name.text\n",
    "        except NoSuchElementException:\n",
    "            restaurant['name'] = None\n",
    "            \n",
    "        try:  \n",
    "            rating = result.find_element(By.CLASS_NAME, 'MW4etd') \n",
    "            restaurant['rating'] = float(rating.text.replace(',','.'))\n",
    "        except NoSuchElementException:\n",
    "            restaurant['rating'] = None\n",
    "            \n",
    "        try:\n",
    "            number_commnets_google = result.find_element(By.CLASS_NAME, 'UY7F9') \n",
    "            restaurant['number_commnets_google'] = int(number_commnets_google.text.replace(\"(\", \"\").replace(\")\", \"\").replace(\".\", \"\"))\n",
    "        except NoSuchElementException:\n",
    "            restaurant['number_commnets_google'] = None\n",
    "            \n",
    "        try:\n",
    "            address = result.find_elements(By.CLASS_NAME, 'W4Efsd') \n",
    "            line = address[2].text.split('·')\n",
    "            \n",
    "            if len(line)>1:\n",
    "                restaurant['address'] = line[1]\n",
    "                restaurant['type'] = line[0]\n",
    "            elif len(line)== 1:\n",
    "                restaurant['type'] = line[0]\n",
    "                \n",
    "        except NoSuchElementException:\n",
    "            restaurant['address'] = None\n",
    "            \n",
    "        try:\n",
    "            link= result.find_element(By.CLASS_NAME, 'hfpxzc')\n",
    "            restaurant['google_maps_url'] = link.get_attribute('href')\n",
    "            \n",
    "            restaurant['latitud'] = get_loc_google_url(restaurant['google_maps_url'])[0]\n",
    "            restaurant['longitud'] = get_loc_google_url(restaurant['google_maps_url'])[1]\n",
    "        except NoSuchElementException:\n",
    "            restaurant['google_maps_url'] = None\n",
    "        \n",
    "        restaurants.append(restaurant)\n",
    "    return restaurants"
   ]
  },
  {
   "cell_type": "code",
   "execution_count": 59,
   "id": "a5fec890",
   "metadata": {},
   "outputs": [],
   "source": [
    "def navigate_map(lat, lon, restaurants):\n",
    "    driver.get('https://www.google.com/maps/search/restaurantes/@'+str(lat)+','+str(lon)+',19z/data=!4m2!2m1!6e5?hl=es&entry=ttu')\n",
    "    restaurants=extract_data_restaurants(restaurants)\n",
    "    return restaurants"
   ]
  },
  {
   "cell_type": "code",
   "execution_count": 64,
   "id": "aa1511ee",
   "metadata": {},
   "outputs": [
    {
     "name": "stdout",
     "output_type": "stream",
     "text": [
      "4.6038511 - -74.0756006\n",
      "20\n",
      "4.6038511 - -74.0746006\n",
      "20\n",
      "4.6038511 - -74.0726006\n",
      "20\n",
      "4.6038511 - -74.0696006\n",
      "20\n",
      "4.6038511 - -74.0656006\n",
      "20\n",
      "4.6048511 - -74.0756006\n",
      "20\n",
      "4.6048511 - -74.0746006\n",
      "20\n",
      "4.6048511 - -74.0726006\n",
      "20\n",
      "4.6048511 - -74.0696006\n",
      "20\n",
      "4.6048511 - -74.0656006\n",
      "20\n",
      "4.6068511 - -74.0756006\n",
      "20\n",
      "4.6068511 - -74.0746006\n",
      "20\n",
      "4.6068511 - -74.0726006\n",
      "20\n",
      "4.6068511 - -74.0696006\n",
      "20\n",
      "4.6068511 - -74.0656006\n",
      "20\n",
      "4.6098511 - -74.0756006\n",
      "20\n",
      "4.6098511 - -74.0746006\n",
      "20\n",
      "4.6098511 - -74.0726006\n",
      "20\n",
      "4.6098511 - -74.0696006\n",
      "20\n",
      "4.6098511 - -74.0656006\n",
      "20\n",
      "4.6138511 - -74.0756006\n",
      "20\n",
      "4.6138511 - -74.0746006\n",
      "20\n",
      "4.6138511 - -74.0726006\n",
      "20\n",
      "4.6138511 - -74.0696006\n",
      "20\n",
      "4.6138511 - -74.0656006\n",
      "20\n",
      "Scarping Ready\n"
     ]
    }
   ],
   "source": [
    "lat = 4.6038511\n",
    "lon = -74.0756006\n",
    "restaurants = []\n",
    "\n",
    "for i in range(0,5):\n",
    "    lat = lat + i*0.001\n",
    "    lon = -74.0756006\n",
    "    for j in range(0,5):\n",
    "        lon = lon + j*0.001\n",
    "        print(str(lat),'-',str(lon))\n",
    "        restaurants = navigate_map(lat, lon, restaurants) \n",
    "        \n",
    "print(\"Scarping Ready\")"
   ]
  },
  {
   "cell_type": "code",
   "execution_count": 65,
   "id": "45993fbd",
   "metadata": {
    "scrolled": false
   },
   "outputs": [
    {
     "name": "stdout",
     "output_type": "stream",
     "text": [
      "True     275\n",
      "False    225\n",
      "dtype: int64\n"
     ]
    },
    {
     "data": {
      "text/html": [
       "<div>\n",
       "<style scoped>\n",
       "    .dataframe tbody tr th:only-of-type {\n",
       "        vertical-align: middle;\n",
       "    }\n",
       "\n",
       "    .dataframe tbody tr th {\n",
       "        vertical-align: top;\n",
       "    }\n",
       "\n",
       "    .dataframe thead th {\n",
       "        text-align: right;\n",
       "    }\n",
       "</style>\n",
       "<table border=\"1\" class=\"dataframe\">\n",
       "  <thead>\n",
       "    <tr style=\"text-align: right;\">\n",
       "      <th></th>\n",
       "      <th>name</th>\n",
       "      <th>rating</th>\n",
       "      <th>number_commnets_google</th>\n",
       "      <th>address</th>\n",
       "      <th>type</th>\n",
       "      <th>google_maps_url</th>\n",
       "      <th>latitud</th>\n",
       "      <th>longitud</th>\n",
       "    </tr>\n",
       "  </thead>\n",
       "  <tbody>\n",
       "    <tr>\n",
       "      <th>0</th>\n",
       "      <td>Restaurante Morena Parrilla</td>\n",
       "      <td>4.0</td>\n",
       "      <td>17.0</td>\n",
       "      <td>Cra. 12 # 15-25 Piso 2. Centro Comercial Gran...</td>\n",
       "      <td>Colombiana</td>\n",
       "      <td>https://www.google.com/maps/place/Restaurante+...</td>\n",
       "      <td>4.6039966</td>\n",
       "      <td>4.6039966</td>\n",
       "    </tr>\n",
       "    <tr>\n",
       "      <th>1</th>\n",
       "      <td>RESTAURANTE GUSTA MAS</td>\n",
       "      <td>5.0</td>\n",
       "      <td>2.0</td>\n",
       "      <td>Cl. 16 #12-55</td>\n",
       "      <td>Colombiana</td>\n",
       "      <td>https://www.google.com/maps/place/RESTAURANTE+...</td>\n",
       "      <td>4.6050923</td>\n",
       "      <td>4.6050923</td>\n",
       "    </tr>\n",
       "    <tr>\n",
       "      <th>2</th>\n",
       "      <td>Restaurante El Antojo de La 15</td>\n",
       "      <td>NaN</td>\n",
       "      <td>NaN</td>\n",
       "      <td>Cl. 15 #32</td>\n",
       "      <td>Restaurante</td>\n",
       "      <td>https://www.google.com/maps/place/Restaurante+...</td>\n",
       "      <td>4.603622</td>\n",
       "      <td>4.603622</td>\n",
       "    </tr>\n",
       "    <tr>\n",
       "      <th>3</th>\n",
       "      <td>Restaurante Pescadero Del Centro</td>\n",
       "      <td>4.5</td>\n",
       "      <td>40.0</td>\n",
       "      <td>Cra. 9 #58</td>\n",
       "      <td>Marisco</td>\n",
       "      <td>https://www.google.com/maps/place/Restaurante+...</td>\n",
       "      <td>4.6039659</td>\n",
       "      <td>4.6039659</td>\n",
       "    </tr>\n",
       "    <tr>\n",
       "      <th>4</th>\n",
       "      <td>Restaurante Cafetería Aqúm</td>\n",
       "      <td>NaN</td>\n",
       "      <td>NaN</td>\n",
       "      <td>NaN</td>\n",
       "      <td>Restaurante</td>\n",
       "      <td>https://www.google.com/maps/place/Restaurante+...</td>\n",
       "      <td>4.6037598</td>\n",
       "      <td>4.6037598</td>\n",
       "    </tr>\n",
       "    <tr>\n",
       "      <th>...</th>\n",
       "      <td>...</td>\n",
       "      <td>...</td>\n",
       "      <td>...</td>\n",
       "      <td>...</td>\n",
       "      <td>...</td>\n",
       "      <td>...</td>\n",
       "      <td>...</td>\n",
       "      <td>...</td>\n",
       "    </tr>\n",
       "    <tr>\n",
       "      <th>220</th>\n",
       "      <td>Lima Restaurante Bar</td>\n",
       "      <td>4.4</td>\n",
       "      <td>663.0</td>\n",
       "      <td>Cra. 4a #27-22</td>\n",
       "      <td>Peruana</td>\n",
       "      <td>https://www.google.com/maps/place/Lima+Restaur...</td>\n",
       "      <td>4.614135</td>\n",
       "      <td>4.614135</td>\n",
       "    </tr>\n",
       "    <tr>\n",
       "      <th>221</th>\n",
       "      <td>Anna &amp; Otto Macarena</td>\n",
       "      <td>4.6</td>\n",
       "      <td>672.0</td>\n",
       "      <td>Cra. 4a #26c-35</td>\n",
       "      <td>Pizza</td>\n",
       "      <td>https://www.google.com/maps/place/Anna+%26+Ott...</td>\n",
       "      <td>4.613256</td>\n",
       "      <td>4.613256</td>\n",
       "    </tr>\n",
       "    <tr>\n",
       "      <th>222</th>\n",
       "      <td>Pastis Ristorante</td>\n",
       "      <td>4.4</td>\n",
       "      <td>46.0</td>\n",
       "      <td>Cra. 4a #27 - 86</td>\n",
       "      <td>Italiana</td>\n",
       "      <td>https://www.google.com/maps/place/Pastis+Risto...</td>\n",
       "      <td>4.614742</td>\n",
       "      <td>4.614742</td>\n",
       "    </tr>\n",
       "    <tr>\n",
       "      <th>223</th>\n",
       "      <td>Restaurante rincón Casa de Paella</td>\n",
       "      <td>4.5</td>\n",
       "      <td>172.0</td>\n",
       "      <td>Cl. 26c #4a-15</td>\n",
       "      <td>Restaurante</td>\n",
       "      <td>https://www.google.com/maps/place/Restaurante+...</td>\n",
       "      <td>4.6127433</td>\n",
       "      <td>4.6127433</td>\n",
       "    </tr>\n",
       "    <tr>\n",
       "      <th>224</th>\n",
       "      <td>Bangkok Thai Cuisine</td>\n",
       "      <td>4.5</td>\n",
       "      <td>192.0</td>\n",
       "      <td>Cl. 26c #4-41</td>\n",
       "      <td>Tailandesa</td>\n",
       "      <td>https://www.google.com/maps/place/Bangkok+Thai...</td>\n",
       "      <td>4.6126938</td>\n",
       "      <td>4.6126938</td>\n",
       "    </tr>\n",
       "  </tbody>\n",
       "</table>\n",
       "<p>225 rows × 8 columns</p>\n",
       "</div>"
      ],
      "text/plain": [
       "                                  name  rating  number_commnets_google  \\\n",
       "0          Restaurante Morena Parrilla     4.0                    17.0   \n",
       "1                RESTAURANTE GUSTA MAS     5.0                     2.0   \n",
       "2       Restaurante El Antojo de La 15     NaN                     NaN   \n",
       "3     Restaurante Pescadero Del Centro     4.5                    40.0   \n",
       "4           Restaurante Cafetería Aqúm     NaN                     NaN   \n",
       "..                                 ...     ...                     ...   \n",
       "220               Lima Restaurante Bar     4.4                   663.0   \n",
       "221               Anna & Otto Macarena     4.6                   672.0   \n",
       "222                  Pastis Ristorante     4.4                    46.0   \n",
       "223  Restaurante rincón Casa de Paella     4.5                   172.0   \n",
       "224               Bangkok Thai Cuisine     4.5                   192.0   \n",
       "\n",
       "                                               address          type  \\\n",
       "0     Cra. 12 # 15-25 Piso 2. Centro Comercial Gran...   Colombiana    \n",
       "1                                        Cl. 16 #12-55   Colombiana    \n",
       "2                                           Cl. 15 #32  Restaurante    \n",
       "3                                           Cra. 9 #58      Marisco    \n",
       "4                                                  NaN   Restaurante   \n",
       "..                                                 ...           ...   \n",
       "220                                     Cra. 4a #27-22      Peruana    \n",
       "221                                    Cra. 4a #26c-35        Pizza    \n",
       "222                                   Cra. 4a #27 - 86     Italiana    \n",
       "223                                     Cl. 26c #4a-15  Restaurante    \n",
       "224                                      Cl. 26c #4-41   Tailandesa    \n",
       "\n",
       "                                       google_maps_url    latitud   longitud  \n",
       "0    https://www.google.com/maps/place/Restaurante+...  4.6039966  4.6039966  \n",
       "1    https://www.google.com/maps/place/RESTAURANTE+...  4.6050923  4.6050923  \n",
       "2    https://www.google.com/maps/place/Restaurante+...   4.603622   4.603622  \n",
       "3    https://www.google.com/maps/place/Restaurante+...  4.6039659  4.6039659  \n",
       "4    https://www.google.com/maps/place/Restaurante+...  4.6037598  4.6037598  \n",
       "..                                                 ...        ...        ...  \n",
       "220  https://www.google.com/maps/place/Lima+Restaur...   4.614135   4.614135  \n",
       "221  https://www.google.com/maps/place/Anna+%26+Ott...   4.613256   4.613256  \n",
       "222  https://www.google.com/maps/place/Pastis+Risto...   4.614742   4.614742  \n",
       "223  https://www.google.com/maps/place/Restaurante+...  4.6127433  4.6127433  \n",
       "224  https://www.google.com/maps/place/Bangkok+Thai...  4.6126938  4.6126938  \n",
       "\n",
       "[225 rows x 8 columns]"
      ]
     },
     "execution_count": 65,
     "metadata": {},
     "output_type": "execute_result"
    }
   ],
   "source": [
    "df = pd.DataFrame(restaurants)\n",
    "print(df.duplicated(keep='first').value_counts())\n",
    "df=df.drop_duplicates().reset_index().drop(columns=['index'])\n",
    "df"
   ]
  },
  {
   "cell_type": "code",
   "execution_count": 40,
   "id": "adb79f38",
   "metadata": {},
   "outputs": [],
   "source": [
    "def create_hash_id(value):\n",
    "    return hashlib.sha256(str.encode(str(value))).hexdigest()[0:32]"
   ]
  },
  {
   "cell_type": "code",
   "execution_count": null,
   "id": "dd40e13a",
   "metadata": {
    "scrolled": false
   },
   "outputs": [],
   "source": [
    "df['hash_id'] = df['name']+ df['address']\n",
    "df['hash_id'] = df['hash_id'].apply(create_hash_id)\n",
    "df"
   ]
  },
  {
   "cell_type": "code",
   "execution_count": null,
   "id": "b7b2d73c",
   "metadata": {},
   "outputs": [],
   "source": [
    "!8m2!3d"
   ]
  },
  {
   "cell_type": "code",
   "execution_count": 75,
   "id": "9216e53c",
   "metadata": {},
   "outputs": [],
   "source": [
    "def extract_and_combine(row):\n",
    "    cell_values = [row['latitud'], row['longitud']]\n",
    "    return cell_values"
   ]
  },
  {
   "cell_type": "code",
   "execution_count": 76,
   "id": "a1e94ea7",
   "metadata": {},
   "outputs": [
    {
     "data": {
      "text/html": [
       "<div>\n",
       "<style scoped>\n",
       "    .dataframe tbody tr th:only-of-type {\n",
       "        vertical-align: middle;\n",
       "    }\n",
       "\n",
       "    .dataframe tbody tr th {\n",
       "        vertical-align: top;\n",
       "    }\n",
       "\n",
       "    .dataframe thead th {\n",
       "        text-align: right;\n",
       "    }\n",
       "</style>\n",
       "<table border=\"1\" class=\"dataframe\">\n",
       "  <thead>\n",
       "    <tr style=\"text-align: right;\">\n",
       "      <th></th>\n",
       "      <th>center</th>\n",
       "    </tr>\n",
       "  </thead>\n",
       "  <tbody>\n",
       "    <tr>\n",
       "      <th>0</th>\n",
       "      <td>[4.6039966, 4.6039966]</td>\n",
       "    </tr>\n",
       "    <tr>\n",
       "      <th>1</th>\n",
       "      <td>[4.6050923, 4.6050923]</td>\n",
       "    </tr>\n",
       "    <tr>\n",
       "      <th>2</th>\n",
       "      <td>[4.603622, 4.603622]</td>\n",
       "    </tr>\n",
       "    <tr>\n",
       "      <th>3</th>\n",
       "      <td>[4.6039659, 4.6039659]</td>\n",
       "    </tr>\n",
       "    <tr>\n",
       "      <th>4</th>\n",
       "      <td>[4.6037598, 4.6037598]</td>\n",
       "    </tr>\n",
       "    <tr>\n",
       "      <th>...</th>\n",
       "      <td>...</td>\n",
       "    </tr>\n",
       "    <tr>\n",
       "      <th>220</th>\n",
       "      <td>[4.614135, 4.614135]</td>\n",
       "    </tr>\n",
       "    <tr>\n",
       "      <th>221</th>\n",
       "      <td>[4.613256, 4.613256]</td>\n",
       "    </tr>\n",
       "    <tr>\n",
       "      <th>222</th>\n",
       "      <td>[4.614742, 4.614742]</td>\n",
       "    </tr>\n",
       "    <tr>\n",
       "      <th>223</th>\n",
       "      <td>[4.6127433, 4.6127433]</td>\n",
       "    </tr>\n",
       "    <tr>\n",
       "      <th>224</th>\n",
       "      <td>[4.6126938, 4.6126938]</td>\n",
       "    </tr>\n",
       "  </tbody>\n",
       "</table>\n",
       "<p>225 rows × 1 columns</p>\n",
       "</div>"
      ],
      "text/plain": [
       "                     center\n",
       "0    [4.6039966, 4.6039966]\n",
       "1    [4.6050923, 4.6050923]\n",
       "2      [4.603622, 4.603622]\n",
       "3    [4.6039659, 4.6039659]\n",
       "4    [4.6037598, 4.6037598]\n",
       "..                      ...\n",
       "220    [4.614135, 4.614135]\n",
       "221    [4.613256, 4.613256]\n",
       "222    [4.614742, 4.614742]\n",
       "223  [4.6127433, 4.6127433]\n",
       "224  [4.6126938, 4.6126938]\n",
       "\n",
       "[225 rows x 1 columns]"
      ]
     },
     "execution_count": 76,
     "metadata": {},
     "output_type": "execute_result"
    }
   ],
   "source": [
    "aux = pd.DataFrame()\n",
    "aux['center'] = df.apply(extract_and_combine, axis=1)\n",
    "aux"
   ]
  },
  {
   "cell_type": "code",
   "execution_count": 36,
   "id": "4af94b8b",
   "metadata": {
    "scrolled": true
   },
   "outputs": [
    {
     "name": "stdout",
     "output_type": "stream",
     "text": [
      "https://www.google.com/maps/place/Restaurante+Pescadero+Del+Centro/data=!4m7!3m6!1s0x8e3f99a0fe42a99b:0x849625b9a46329a5!8m2!3d4.6039659!4d-74.074317!16s%2Fg%2F11b7q0p0dc!19sChIJm6lC_qCZP44RpSljpLklloQ?authuser=0&hl=es&rclk=1\n",
      "https://www.google.com/maps/place/Restaurante+Pescadero+Del+Centro/data=!4m7!3m6!1s0x8e3f99a0fe42a99b:0x849625b9a46329a5!8m2!3d4.6039659!4d-74.074317!16s%2Fg%2F11b7q0p0dc!19sChIJm6lC_qCZP44RpSljpLklloQ?authuser=0&hl=es&rclk=1\n"
     ]
    }
   ],
   "source": [
    "print(df['google_maps_url'][3])\n",
    "driver.get(df['google_maps_url'][3])\n",
    "get_url = driver.current_url\n",
    "print(get_url)"
   ]
  },
  {
   "cell_type": "code",
   "execution_count": 1,
   "id": "6f2c32fa",
   "metadata": {},
   "outputs": [
    {
     "ename": "NameError",
     "evalue": "name 'df' is not defined",
     "output_type": "error",
     "traceback": [
      "\u001b[1;31m---------------------------------------------------------------------------\u001b[0m",
      "\u001b[1;31mNameError\u001b[0m                                 Traceback (most recent call last)",
      "Cell \u001b[1;32mIn[1], line 1\u001b[0m\n\u001b[1;32m----> 1\u001b[0m \u001b[43mdf\u001b[49m[\u001b[38;5;124m'\u001b[39m\u001b[38;5;124mgoogle_maps_url\u001b[39m\u001b[38;5;124m'\u001b[39m]\n",
      "\u001b[1;31mNameError\u001b[0m: name 'df' is not defined"
     ]
    }
   ],
   "source": [
    "df['google_maps_url']"
   ]
  },
  {
   "cell_type": "code",
   "execution_count": 38,
   "id": "157f7ae9",
   "metadata": {},
   "outputs": [
    {
     "name": "stdout",
     "output_type": "stream",
     "text": [
      "4.6039966!4d-74.0769667!16s%2Fg%2F11bwf8v93j!19sChIJP01mgqCZP44RSifx5rkt-zQ?authuser=0&hl=es&rclk=1\n"
     ]
    },
    {
     "data": {
      "text/plain": [
       "['4.6039966', '-74.0769667']"
      ]
     },
     "execution_count": 38,
     "metadata": {},
     "output_type": "execute_result"
    }
   ],
   "source": [
    "url=df['google_maps_url'][0]\n",
    "url=url[url.find('!8m2!3d')+7:]\n",
    "print(url)\n",
    "url=url[:url.find('!16s')].split('!4d')\n",
    "url"
   ]
  },
  {
   "cell_type": "code",
   "execution_count": 77,
   "id": "e83d27bf",
   "metadata": {},
   "outputs": [],
   "source": [
    "aux.to_json(path_or_buf='D:/MarketResearch/Restaurantes/restaurants_loc_sample.json', orient='records')"
   ]
  },
  {
   "cell_type": "code",
   "execution_count": 521,
   "id": "5f2bd729",
   "metadata": {},
   "outputs": [
    {
     "data": {
      "text/plain": [
       "Restaurante              123\n",
       "Colombiana                40\n",
       "Restaurante               21\n",
       "Italiana                   7\n",
       "Vegetariana                4\n",
       "Mexicana                   4\n",
       "Marisco                    3\n",
       "Comida rápida              3\n",
       "Desayuno                   3\n",
       "China                      3\n",
       "Peruana                    3\n",
       "Pizza                      2\n",
       "Bar de tapas               1\n",
       "Parrilla                   1\n",
       "Española                   1\n",
       "Fusión asiática            1\n",
       "Caribeña                   1\n",
       "Serbia                     1\n",
       "India                      1\n",
       "Ideal para familias        1\n",
       "Vegetariana estricta       1\n",
       "Libanesa                   1\n",
       "Criolla                    1\n",
       "Tailandesa                 1\n",
       "Name: type, dtype: int64"
      ]
     },
     "execution_count": 521,
     "metadata": {},
     "output_type": "execute_result"
    }
   ],
   "source": [
    "df['type'].value_counts()"
   ]
  }
 ],
 "metadata": {
  "kernelspec": {
   "display_name": "Python 3 (ipykernel)",
   "language": "python",
   "name": "python3"
  },
  "language_info": {
   "codemirror_mode": {
    "name": "ipython",
    "version": 3
   },
   "file_extension": ".py",
   "mimetype": "text/x-python",
   "name": "python",
   "nbconvert_exporter": "python",
   "pygments_lexer": "ipython3",
   "version": "3.9.12"
  }
 },
 "nbformat": 4,
 "nbformat_minor": 5
}
